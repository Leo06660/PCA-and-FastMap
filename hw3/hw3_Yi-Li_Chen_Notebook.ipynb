{
 "cells": [
  {
   "cell_type": "markdown",
   "metadata": {},
   "source": [
    "# PCA"
   ]
  },
  {
   "cell_type": "code",
   "execution_count": 1,
   "metadata": {},
   "outputs": [],
   "source": [
    "import csv\n",
    "import numpy as np"
   ]
  },
  {
   "cell_type": "code",
   "execution_count": 2,
   "metadata": {},
   "outputs": [],
   "source": [
    "data = []\n",
    "with open('pca-data.txt') as file:\n",
    "    reader = csv.reader(file, delimiter='\\t')\n",
    "    for line in reader:\n",
    "        data.append([float(line[0]),float(line[1]),float(line[2])])\n",
    "data = np.array(data)"
   ]
  },
  {
   "cell_type": "code",
   "execution_count": 3,
   "metadata": {},
   "outputs": [],
   "source": [
    "# step 0: centralize\n",
    "def data_centralize(data):\n",
    "    mu = np.mean(data,axis=0)\n",
    "    data_std = data-mu\n",
    "    return data_std"
   ]
  },
  {
   "cell_type": "code",
   "execution_count": 4,
   "metadata": {},
   "outputs": [],
   "source": [
    "# step 1: Calculate the covariance\n",
    "def calculate_covariance(data_std):\n",
    "    data_covar = np.cov(data_std, rowvar=False, bias=True) \n",
    "    return data_covar"
   ]
  },
  {
   "cell_type": "code",
   "execution_count": 5,
   "metadata": {},
   "outputs": [],
   "source": [
    "# Step 2: Calculate eigenvalues and eigenvectors\n",
    "def calculate_eigen(data_covar):\n",
    "    eigenvalues,eigenvectors = np.linalg.eig(data_covar)\n",
    "    return eigenvalues,eigenvectors"
   ]
  },
  {
   "cell_type": "code",
   "execution_count": 6,
   "metadata": {},
   "outputs": [],
   "source": [
    "# Step 3: Pick k eigenvalues and form a matrix of eigenvectors\n",
    "def build_k_dim_eigenvectorMatrix(eigenvectors, k):\n",
    "    k_eigen = eigenvectors[:,0:k]\n",
    "    return k_eigen"
   ]
  },
  {
   "cell_type": "code",
   "execution_count": 15,
   "metadata": {},
   "outputs": [],
   "source": [
    "def PCA(data, k):\n",
    "    data_std = data_centralize(data)\n",
    "    data_covar = calculate_covariance(data_std)\n",
    "    eigenvalues,eigenvectors = calculate_eigen(data_covar)\n",
    "    k_eigen = build_k_dim_eigenvectorMatrix(eigenvectors, k)\n",
    "    print(k_eigen)\n",
    "    new_data = np.matmul(data_std, k_eigen)\n",
    "    return new_data"
   ]
  },
  {
   "cell_type": "code",
   "execution_count": 16,
   "metadata": {},
   "outputs": [
    {
     "name": "stdout",
     "output_type": "stream",
     "text": [
      "[[ 0.86667137 -0.4962773 ]\n",
      " [-0.23276482 -0.4924792 ]\n",
      " [ 0.44124968  0.71496368]]\n"
     ]
    },
    {
     "data": {
      "text/plain": [
       "array([[ 10.87667009,   7.37396173],\n",
       "       [-12.68609992,  -4.24879151],\n",
       "       [  0.43255106,   0.26700852],\n",
       "       ...,\n",
       "       [ -2.92254009,   2.41914881],\n",
       "       [ 11.18317124,   4.20349275],\n",
       "       [ 14.2299014 ,   5.64409544]])"
      ]
     },
     "execution_count": 16,
     "metadata": {},
     "output_type": "execute_result"
    }
   ],
   "source": [
    "new_data = PCA(data, k=2)\n",
    "new_data"
   ]
  },
  {
   "cell_type": "markdown",
   "metadata": {},
   "source": [
    " "
   ]
  },
  {
   "cell_type": "code",
   "execution_count": 17,
   "metadata": {},
   "outputs": [
    {
     "data": {
      "text/plain": [
       "array([[-10.87667009,   7.37396173],\n",
       "       [ 12.68609992,  -4.24879151],\n",
       "       [ -0.43255106,   0.26700852],\n",
       "       ...,\n",
       "       [  2.92254009,   2.41914881],\n",
       "       [-11.18317124,   4.20349275],\n",
       "       [-14.2299014 ,   5.64409544]])"
      ]
     },
     "execution_count": 17,
     "metadata": {},
     "output_type": "execute_result"
    }
   ],
   "source": [
    "# Part 2: Software Familiarization\n",
    "from sklearn.decomposition import PCA\n",
    "import pandas as pd\n",
    "pca = PCA(n_components=2)\n",
    "principalComponents = pca.fit_transform(data)\n",
    "principalComponents"
   ]
  },
  {
   "cell_type": "markdown",
   "metadata": {},
   "source": [
    " "
   ]
  },
  {
   "cell_type": "markdown",
   "metadata": {},
   "source": [
    "# FastMap"
   ]
  },
  {
   "cell_type": "code",
   "execution_count": 1,
   "metadata": {},
   "outputs": [],
   "source": [
    "import csv\n",
    "import random\n",
    "import numpy as np\n",
    "import matplotlib.pyplot as plt"
   ]
  },
  {
   "cell_type": "code",
   "execution_count": 2,
   "metadata": {},
   "outputs": [],
   "source": [
    "fastmap_data = []\n",
    "with open('fastmap-data.txt') as file:\n",
    "    reader = csv.reader(file, delimiter='\\t')\n",
    "    for line in reader:\n",
    "        fastmap_data.append([float(line[0]),float(line[1]),float(line[2])])\n",
    "fastmap_data = np.array(fastmap_data)"
   ]
  },
  {
   "cell_type": "code",
   "execution_count": 3,
   "metadata": {},
   "outputs": [],
   "source": [
    "fastmap_wordlist = []\n",
    "with open('fastmap-wordlist.txt') as file:\n",
    "    reader = csv.reader(file)\n",
    "    for line in reader:\n",
    "        fastmap_wordlist+=line"
   ]
  },
  {
   "cell_type": "markdown",
   "metadata": {},
   "source": [
    "#### Find Oa and Ob"
   ]
  },
  {
   "cell_type": "code",
   "execution_count": 4,
   "metadata": {},
   "outputs": [],
   "source": [
    "def find_farthest_obj(obj1_idx, fastmap_data):\n",
    "    # The row related to obj1_idx\n",
    "    obj1_distances = np.concatenate((fastmap_data[fastmap_data[:,0]==obj1_idx], \n",
    "                                     fastmap_data[fastmap_data[:,1]==obj1_idx]))\n",
    "    # Find out Oa in the above rows with max distance\n",
    "    max_dist_idx = np.argmax(obj1_distances[:,2])\n",
    "    obj2 = list(obj1_distances[max_dist_idx][0:2])\n",
    "    obj2.remove(obj1_idx)\n",
    "    obj2_idx = int(obj2[0])\n",
    "    return obj2_idx"
   ]
  },
  {
   "cell_type": "code",
   "execution_count": 6,
   "metadata": {},
   "outputs": [],
   "source": [
    "def find_farthest_pair(fastmap_wordlist, fastmap_data):\n",
    "    Ob = random.sample(fastmap_wordlist,1)[0]\n",
    "    Ob_idx = fastmap_wordlist.index(Ob)+1\n",
    "    old_ob_idx = Ob_idx\n",
    "    while 1:\n",
    "        Oa_idx = find_farthest_obj(Ob_idx, fastmap_data)\n",
    "        Ob_idx = find_farthest_obj(Oa_idx, fastmap_data)\n",
    "        if old_ob_idx == Ob_idx:\n",
    "            return Oa_idx, Ob_idx\n",
    "        else:\n",
    "            old_ob_idx = Ob_idx"
   ]
  },
  {
   "cell_type": "code",
   "execution_count": 8,
   "metadata": {},
   "outputs": [],
   "source": [
    "def distance_function(obj1_idx, obj2_idx, fastmap_data):\n",
    "    idx = []\n",
    "    idx.append(obj1_idx)\n",
    "    idx.append(obj2_idx)\n",
    "    idx.sort()\n",
    "    for idx_objs in range(len(fastmap_data)):\n",
    "        if fastmap_data[:,0][idx_objs]==idx[0] and fastmap_data[:,1][idx_objs]==idx[1]:\n",
    "            d = fastmap_data[:,2][idx_objs]\n",
    "            return d\n",
    "        else:\n",
    "            d = 0\n",
    "    return d"
   ]
  },
  {
   "cell_type": "code",
   "execution_count": 12,
   "metadata": {},
   "outputs": [],
   "source": [
    "def FastMap(k, fastmap_data, fastmap_wordlist, coordinate_idx):\n",
    "    # Stopping criteria\n",
    "    if k<=0:\n",
    "        return output_k_coordinate\n",
    "    else:\n",
    "        coordinate_idx+=1\n",
    "    # Find each farthest pair of fastmap_data\n",
    "    Oa_idx, Ob_idx = find_farthest_pair(fastmap_wordlist, fastmap_data)\n",
    "    # Calculate the coordinate for each iteration\n",
    "    for obj_idx in range(1,len(fastmap_wordlist)+1):\n",
    "        d_ai = distance_function(Oa_idx, obj_idx, fastmap_data)\n",
    "        d_ab = distance_function(Oa_idx, Ob_idx, fastmap_data)\n",
    "        d_ib = distance_function(Ob_idx, obj_idx, fastmap_data)\n",
    "        x = (d_ai**2+d_ab**2-d_ib**2)/(2*d_ab)\n",
    "        output_k_coordinate[obj_idx-1][coordinate_idx]=x\n",
    "    # Create new distance function which is new fastmap data\n",
    "    new_fastmap_data = fastmap_data.copy() \n",
    "    for row in range(len(new_fastmap_data)):\n",
    "        D_old = distance_function(new_fastmap_data[row][0],\n",
    "                                  new_fastmap_data[row][1], \n",
    "                                  fastmap_data)\n",
    "        xi = output_k_coordinate[int(new_fastmap_data[row][0]-1)][coordinate_idx]\n",
    "        xj = output_k_coordinate[int(new_fastmap_data[row][1]-1)][coordinate_idx]\n",
    "        new_fastmap_data[row][2] = (D_old**2-(xi-xj)**2)**0.5\n",
    "    # Call FastMap function again with the input of new fastmap \n",
    "    FastMap(k-1, new_fastmap_data, fastmap_wordlist, coordinate_idx)\n",
    "    return output_k_coordinate"
   ]
  },
  {
   "cell_type": "code",
   "execution_count": 19,
   "metadata": {
    "scrolled": false
   },
   "outputs": [
    {
     "name": "stderr",
     "output_type": "stream",
     "text": [
      "/Library/Frameworks/Python.framework/Versions/3.6/lib/python3.6/site-packages/ipykernel_launcher.py:24: RuntimeWarning: invalid value encountered in double_scalars\n"
     ]
    },
    {
     "data": {
      "text/plain": [
       "array([[ 3.875     ,  5.25      ],\n",
       "       [ 3.        ,  7.75      ],\n",
       "       [ 0.        ,  4.        ],\n",
       "       [ 1.04166667,  2.5       ],\n",
       "       [ 2.45833333,  1.        ],\n",
       "       [ 9.5       ,  4.        ],\n",
       "       [ 2.45833333,  8.        ],\n",
       "       [ 1.5       ,  0.25      ],\n",
       "       [ 2.45833333,  0.        ],\n",
       "       [12.        ,  4.        ]])"
      ]
     },
     "execution_count": 19,
     "metadata": {},
     "output_type": "execute_result"
    }
   ],
   "source": [
    "output_k_coordinate = np.zeros((len(fastmap_wordlist),2)) # k=2\n",
    "result = FastMap(2, fastmap_data, fastmap_wordlist, -1)\n",
    "result"
   ]
  },
  {
   "cell_type": "code",
   "execution_count": 21,
   "metadata": {},
   "outputs": [
    {
     "data": {
      "image/png": "[encoded data removed]",
      "text/plain": [
       "<Figure size 432x288 with 1 Axes>"
      ]
     },
     "metadata": {
      "needs_background": "light"
     },
     "output_type": "display_data"
    }
   ],
   "source": [
    "x = result[:,0]\n",
    "y = result[:,1]\n",
    "plt.plot(x,y,'o')\n",
    "for xx,yy,word in zip(x,y,fastmap_wordlist):\n",
    "    plt.annotate(word,(xx,yy))"
   ]
  }
 ],
 "metadata": {
  "kernelspec": {
   "display_name": "Python 3",
   "language": "python",
   "name": "python3"
  },
  "language_info": {
   "codemirror_mode": {
    "name": "ipython",
    "version": 3
   },
   "file_extension": ".py",
   "mimetype": "text/x-python",
   "name": "python",
   "nbconvert_exporter": "python",
   "pygments_lexer": "ipython3",
   "version": "3.6.8"
  }
 },
 "nbformat": 4,
 "nbformat_minor": 2
}
